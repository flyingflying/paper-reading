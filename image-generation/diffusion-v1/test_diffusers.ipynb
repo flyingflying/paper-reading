{
 "cells": [
  {
   "cell_type": "code",
   "execution_count": null,
   "metadata": {},
   "outputs": [],
   "source": [
    "%cd ../image_generation"
   ]
  },
  {
   "cell_type": "code",
   "execution_count": null,
   "metadata": {},
   "outputs": [],
   "source": [
    "import os \n",
    "\n",
    "os.environ[\"HF_HUB_OFFLINE\"] = \"1\""
   ]
  },
  {
   "cell_type": "code",
   "execution_count": null,
   "metadata": {},
   "outputs": [],
   "source": [
    "import torch \n",
    "import matplotlib.pyplot as plt \n",
    "\n",
    "device = torch.device(\"cuda:0\")"
   ]
  },
  {
   "cell_type": "code",
   "execution_count": null,
   "metadata": {},
   "outputs": [],
   "source": [
    "from diffusers import DDPMPipeline\n",
    "\n",
    "# model_id = \"google/ddpm-ema-celebahq-256\"\n",
    "model_id = os.path.abspath(\"./models/ddpm-ema-celebahq-256/\")\n",
    "\n",
    "ddpm_pipeline: DDPMPipeline = DDPMPipeline.from_pretrained(pretrained_model_name_or_path=model_id).to(device)"
   ]
  },
  {
   "cell_type": "code",
   "execution_count": null,
   "metadata": {},
   "outputs": [],
   "source": [
    "image = ddpm_pipeline().images[0]\n",
    "plt.imshow(image)"
   ]
  },
  {
   "cell_type": "code",
   "execution_count": null,
   "metadata": {},
   "outputs": [],
   "source": [
    "# pipeline 的 __call__ 方法\n",
    "\n",
    "import torch \n",
    "from torch import Tensor \n",
    "from numpy import ndarray\n",
    "from diffusers.models.unet_2d import UNet2DModel\n",
    "from diffusers.schedulers import DDPMScheduler\n",
    "\n",
    "batch_size = 1\n",
    "unet_model: UNet2DModel = ddpm_pipeline.unet\n",
    "scheduler: DDPMScheduler = ddpm_pipeline.scheduler\n",
    "\n",
    "image_shape = (\n",
    "    batch_size, \n",
    "    ddpm_pipeline.unet.config.in_channels, \n",
    "    ddpm_pipeline.unet.config.sample_size,\n",
    "    ddpm_pipeline.unet.config.sample_size,\n",
    ")\n",
    "image = torch.randn(image_shape, generator=None, dtype=None, layout=torch.strided).to(device)\n",
    "\n",
    "# set step values\n",
    "scheduler.set_timesteps(1000)\n",
    "\n",
    "with torch.no_grad():\n",
    "    for t in ddpm_pipeline.progress_bar(ddpm_pipeline.scheduler.timesteps):\n",
    "        # 1. predict noise model_output\n",
    "        model_output = unet_model.forward(image, t).sample\n",
    "\n",
    "        # 2. compute previous image: x_t -> x_t-1\n",
    "        image = scheduler.step(model_output, t, image).prev_sample\n",
    "\n",
    "image = (image / 2 + 0.5).clamp(0, 1)  # image 从 [-1, 1] rescale 到 [0, 1]\n",
    "image = image.cpu().permute(0, 2, 3, 1).numpy()  # 变成 ndarray 对象\n",
    "\n",
    "plt.imshow(image[0])"
   ]
  },
  {
   "cell_type": "code",
   "execution_count": null,
   "metadata": {},
   "outputs": [],
   "source": [
    "# from datasets import load_dataset\n",
    "\n",
    "# dataset = load_dataset(\"imagefolder\", name=\"anime\", data_dir=\"./images/anime\", drop_labels=True, keep_in_memory=True)\n",
    "\n",
    "# dataset.save_to_disk(\"hf_anime\")"
   ]
  }
 ],
 "metadata": {
  "kernelspec": {
   "display_name": "Python 3 (ipykernel)",
   "language": "python",
   "name": "python3"
  },
  "language_info": {
   "codemirror_mode": {
    "name": "ipython",
    "version": 3
   },
   "file_extension": ".py",
   "mimetype": "text/x-python",
   "name": "python",
   "nbconvert_exporter": "python",
   "pygments_lexer": "ipython3",
   "version": "3.10.11"
  },
  "orig_nbformat": 4
 },
 "nbformat": 4,
 "nbformat_minor": 2
}

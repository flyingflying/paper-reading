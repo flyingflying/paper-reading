{
 "cells": [
  {
   "attachments": {},
   "cell_type": "markdown",
   "metadata": {},
   "source": [
    "### 对抗样本\n",
    "\n",
    "测试 **对抗样本** 相关的算法, 本代码主要是按照 李宏毅 2023ml 的 hw10 进行测试改变的。\n",
    "\n",
    "其使用的 [pytorchcv](https://github.com/osmr/imgclsmob) 库已经较长时间没有更新了, 而最近 pytorch 又升级到了 2+ 的版本, 后续可能会有适配问题。\n",
    "\n",
    "reference:\n",
    "\n",
    "+ https://colab.research.google.com/drive/1GmZI-58gQXxu6VTYHGpf0Ob1iZ8PB4GV \n",
    "+ https://speech.ee.ntu.edu.tw/~hylee/ml/ml2023-course-data/HW10.pdf \n"
   ]
  },
  {
   "cell_type": "code",
   "execution_count": 1,
   "metadata": {},
   "outputs": [],
   "source": [
    "import torch \n",
    "from torch import Tensor, nn\n",
    "from torch.nn import functional as F \n",
    "\n",
    "from tqdm import tqdm\n",
    "\n",
    "device = torch.device(\"cuda:0\")"
   ]
  },
  {
   "cell_type": "code",
   "execution_count": 2,
   "metadata": {},
   "outputs": [],
   "source": [
    "# 数据集下载: https://www.dropbox.com/s/lbpypqamqjpt2qz/data.zip\n",
    "# 解压后将文件夹名字改成 fgsm_test\n",
    "# 使用的是 cifar-10 数据集\n",
    "\n",
    "CIFAR10_MEAN = (0.491, 0.482, 0.447)  # cifar10 数据集的均值\n",
    "CIFAR10_STD = (0.202, 0.199, 0.201)  # cifar10 数据集的标准差\n",
    "\n",
    "from torchvision.transforms import transforms\n",
    "from torchvision.datasets import ImageFolder\n",
    "\n",
    "\n",
    "dataset = ImageFolder(\n",
    "    root=\"fgsm_test\",\n",
    "    transform=transforms.Compose([\n",
    "        # pixel 的取值范围从 0-255 变成 0-1\n",
    "        transforms.ToTensor(),\n",
    "        # pixel 值减去均值除以方差, 取值范围是实数域, 并且在其对应的 channel 中的均值是 0, 方差是 1\n",
    "        transforms.Normalize(CIFAR10_MEAN, CIFAR10_STD)\n",
    "    ])\n",
    ")"
   ]
  },
  {
   "cell_type": "code",
   "execution_count": 3,
   "metadata": {},
   "outputs": [],
   "source": [
    "from pytorchcv.model_provider import get_model as ptcv_get_model  # type: ignore\n",
    "\n",
    "# 可以从 https://github.com/osmr/imgclsmob/releases/download/v0.0.163/resnet110_cifar10-0369-4d6ca1fc.pth.zip 中下载模型到 ~/.torch/models 中\n",
    "model = ptcv_get_model('resnet110_cifar10', pretrained=True).to(device).eval()"
   ]
  },
  {
   "cell_type": "code",
   "execution_count": 24,
   "metadata": {},
   "outputs": [],
   "source": [
    "mean = torch.tensor(CIFAR10_MEAN).to(device)[:, None, None]\n",
    "std = torch.tensor(CIFAR10_STD).to(device)[:, None, None]\n",
    "\n",
    "# epsilon 要设置成人眼观察不到的扰动, 这里认为一个 pixel 最多增加或者减少 8 个强度\n",
    "epsilon = 8 / 255 / std"
   ]
  },
  {
   "cell_type": "code",
   "execution_count": 99,
   "metadata": {},
   "outputs": [
    {
     "name": "stdout",
     "output_type": "stream",
     "text": [
      "\n",
      "正确率是: 95.0%\n",
      "平均损失值是: 0.22677\n"
     ]
    }
   ],
   "source": [
    "from torch.utils.data import DataLoader\n",
    "\n",
    "\n",
    "def evaluate(data_loader, attack_func = None, output_result: bool = True):\n",
    "\n",
    "    correct_number, total_loss = 0.0, 0.0\n",
    "\n",
    "    for batch_images, y_true in tqdm(data_loader, disable=True):\n",
    "\n",
    "        batch_images, y_true = batch_images.to(device), y_true.to(device)\n",
    "        \n",
    "        if attack_func is not None:\n",
    "            batch_images = attack_func(batch_images, y_true)\n",
    "            \n",
    "            batch_images = (batch_images * std + mean).clamp(0, 1)\n",
    "            batch_images = torch.round((batch_images * 255)).clamp(0, 255)\n",
    "            \n",
    "            batch_images = (batch_images / 255 - mean) / std\n",
    "\n",
    "        with torch.no_grad():\n",
    "            logits = model(batch_images)\n",
    "        y_pred = logits.argmax(dim=1)\n",
    "\n",
    "        total_loss += F.cross_entropy(logits, y_true, reduction=\"sum\").item()\n",
    "        correct_number += (y_true == y_pred).sum().item()\n",
    "\n",
    "    accuracy = correct_number / len(data_loader.dataset)\n",
    "    avg_loss = total_loss / len(data_loader.dataset)\n",
    "    \n",
    "    if output_result:\n",
    "        print()\n",
    "        print(f\"正确率是: {round(accuracy * 100, 2)}%\")\n",
    "        print(f\"平均损失值是: {round(avg_loss, 5)}\")\n",
    "    \n",
    "    # return accuracy, avg_loss\n",
    "\n",
    "\n",
    "dataloader = DataLoader(dataset, batch_size=32, shuffle=False, num_workers=4)\n",
    "\n",
    "evaluate(dataloader)  # 两个标签的编号居然对上了 ..."
   ]
  },
  {
   "attachments": {},
   "cell_type": "markdown",
   "metadata": {},
   "source": [
    "### FGSM\n",
    "\n",
    "FGSM 全称是 Fast Gradient Sign Method, 出自 谷歌 2014 年 论文 [Explaining and Harnessing Adversarial Examples](https://arxiv.org/abs/1412.6572)。\n",
    "\n",
    "这里实现的是 non-targeted 方法, 只要求预测错误, 因此 loss 值加个负号即可。整个方案不更新模型参数, 只更新 image 部分的参数。同时我们寻找的也不是全局的噪声, 而是一张图片一个噪声, 因此一次迭代就能取得比较好的效果。\n"
   ]
  },
  {
   "cell_type": "code",
   "execution_count": 100,
   "metadata": {},
   "outputs": [
    {
     "name": "stdout",
     "output_type": "stream",
     "text": [
      "\n",
      "正确率是: 59.0%\n",
      "平均损失值是: 2.48211\n"
     ]
    }
   ],
   "source": [
    "def fgsm(batch_images, y_true):\n",
    "    \n",
    "    new_batch_images: Tensor = batch_images.detach().clone()\n",
    "    new_batch_images.requires_grad = True\n",
    "\n",
    "    obj_value = - F.cross_entropy(model(new_batch_images), y_true)\n",
    "    obj_value.backward()\n",
    "    \n",
    "    grad = new_batch_images.grad.detach()\n",
    "    \n",
    "    return batch_images - epsilon * grad.sign()\n",
    "\n",
    "\n",
    "evaluate(dataloader, fgsm)"
   ]
  },
  {
   "attachments": {},
   "cell_type": "markdown",
   "metadata": {},
   "source": [
    "### Iterative FGSM\n",
    "\n",
    "出自 谷歌大脑 和 OpenAI 2016 年论文 [Adversarial examples in the physical world](https://arxiv.org/abs/1607.02533) 的 2.2 节。"
   ]
  },
  {
   "cell_type": "code",
   "execution_count": 101,
   "metadata": {},
   "outputs": [
    {
     "name": "stdout",
     "output_type": "stream",
     "text": [
      "\n",
      "正确率是: 0.5%\n",
      "平均损失值是: 17.36643\n"
     ]
    }
   ],
   "source": [
    "alpha = 0.8 / 255 / std \n",
    "num_iters = 20\n",
    "\n",
    "\n",
    "def iter_fgsm(batch_images, y_true):\n",
    "    \n",
    "    new_batch_images = batch_images.clone()\n",
    "    \n",
    "    for _ in range(num_iters):\n",
    "        \n",
    "        new_batch_images.requires_grad = True\n",
    "        obj_value = - F.cross_entropy(model(new_batch_images), y_true)\n",
    "        obj_value.backward()\n",
    "        \n",
    "        grad = new_batch_images.grad.detach()\n",
    "        new_batch_images = new_batch_images.detach() - alpha * grad.sign()\n",
    "        \n",
    "        new_batch_images = torch.clamp(new_batch_images, min=batch_images - epsilon, max=batch_images + epsilon)\n",
    "    \n",
    "    return new_batch_images\n",
    "        \n",
    "\n",
    "evaluate(dataloader, iter_fgsm)"
   ]
  },
  {
   "attachments": {},
   "cell_type": "markdown",
   "metadata": {},
   "source": [
    "### Momentum Iterative FGSM\n",
    "\n",
    "出自 2017 年清华大学的论文: [Boosting Adversarial Attacks with Momentum](https://arxiv.org/abs/1710.06081)"
   ]
  },
  {
   "cell_type": "code",
   "execution_count": 107,
   "metadata": {},
   "outputs": [
    {
     "name": "stdout",
     "output_type": "stream",
     "text": [
      "\n",
      "正确率是: 0.5%\n",
      "平均损失值是: 18.28609\n"
     ]
    }
   ],
   "source": [
    "alpha = 0.8 / 255 / std \n",
    "num_iters = 20\n",
    "decay = 0.3\n",
    "\n",
    "\n",
    "def momentum_fgsm(batch_images, y_true):\n",
    "    \n",
    "    new_batch_images = batch_images.clone()\n",
    "    \n",
    "    grad = torch.zeros_like(new_batch_images)\n",
    "    \n",
    "    for _ in range(num_iters):\n",
    "        new_batch_images.requires_grad = True\n",
    "        obj_value = - F.cross_entropy(model(new_batch_images), y_true)\n",
    "        obj_value.backward()\n",
    "        \n",
    "        new_grad = new_batch_images.grad.detach()\n",
    "        \n",
    "        grad = decay * grad + new_grad / torch.norm(new_grad, p=1) # dim=1, keepdim=True)\n",
    "        new_batch_images = new_batch_images.detach() - alpha * grad.sign()\n",
    "        \n",
    "        new_batch_images = torch.clamp(new_batch_images, min=batch_images - epsilon, max=batch_images + epsilon)\n",
    "    \n",
    "    return new_batch_images\n",
    "        \n",
    "\n",
    "evaluate(dataloader, momentum_fgsm)"
   ]
  },
  {
   "cell_type": "code",
   "execution_count": 124,
   "metadata": {},
   "outputs": [
    {
     "data": {
      "image/png": "[encoded data removed]",
      "text/plain": [
       "<Figure size 640x480 with 4 Axes>"
      ]
     },
     "metadata": {},
     "output_type": "display_data"
    }
   ],
   "source": [
    "import matplotlib.pyplot as plt \n",
    "\n",
    "\n",
    "def recover_image(image: Tensor):\n",
    "    \n",
    "    image = (image * std + mean).clamp(0, 1)\n",
    "    image = torch.round((image * 255)).clamp(0, 255)\n",
    "    image = image.permute(1, 2, 0)\n",
    "    image = image.detach().cpu().numpy().astype(\"uint8\")\n",
    "    \n",
    "    return image \n",
    "\n",
    "\n",
    "def get_model_info(image: Tensor):\n",
    "    with torch.no_grad():\n",
    "        logits = model(image.unsqueeze(0))[0]\n",
    "    \n",
    "    probs = torch.softmax(logits, dim=0)\n",
    "    y_pred = logits.argmax().item()\n",
    "    \n",
    "    return f\"{dataset.classes[y_pred]}: {round(probs[y_pred].item(), 4)}\"\n",
    "\n",
    "test_image, test_label = dataset[0]\n",
    "\n",
    "test_image = test_image.to(device)\n",
    "y_true = torch.LongTensor([test_label, ]).to(device)\n",
    "\n",
    "plt.subplot(1, 4, 1)\n",
    "plt.title(\"原图:\\n\" + get_model_info(test_image))\n",
    "plt.imshow(recover_image(test_image))\n",
    "plt.axis(\"off\")\n",
    "\n",
    "plt.subplot(1, 4, 2)\n",
    "fgsm_image = fgsm(test_image[None, ...], y_true)[0]\n",
    "plt.title(\"fgsm:\\n\" + get_model_info(fgsm_image))\n",
    "plt.imshow(recover_image(fgsm_image))\n",
    "plt.axis(\"off\")\n",
    "\n",
    "plt.subplot(1, 4, 3)\n",
    "iter_fgsm_image = iter_fgsm(test_image[None, ...], y_true)[0]\n",
    "plt.title(\"迭代fgsm:\\n\" + get_model_info(iter_fgsm_image))\n",
    "plt.imshow(recover_image(iter_fgsm_image))\n",
    "plt.axis(\"off\")\n",
    "\n",
    "plt.subplot(1, 4, 4)\n",
    "momentum_fgsm_image = momentum_fgsm(test_image[None, ...], y_true)[0]\n",
    "plt.title(\"动量fgsm:\\n\" + get_model_info(momentum_fgsm_image))\n",
    "plt.imshow(recover_image(momentum_fgsm_image))\n",
    "plt.axis(\"off\")\n",
    "\n",
    "plt.show()"
   ]
  }
 ],
 "metadata": {
  "kernelspec": {
   "display_name": "Python 3 (ipykernel)",
   "language": "python",
   "name": "python3"
  },
  "language_info": {
   "codemirror_mode": {
    "name": "ipython",
    "version": 3
   },
   "file_extension": ".py",
   "mimetype": "text/x-python",
   "name": "python",
   "nbconvert_exporter": "python",
   "pygments_lexer": "ipython3",
   "version": "3.10.11"
  },
  "orig_nbformat": 4
 },
 "nbformat": 4,
 "nbformat_minor": 2
}
